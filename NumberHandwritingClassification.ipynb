{
 "cells": [
  {
   "cell_type": "code",
   "execution_count": 1,
   "id": "1a0e6f72-f8ac-415b-af97-cbdea23e02c3",
   "metadata": {},
   "outputs": [],
   "source": [
    "import numpy as np\n",
    "import matplotlib.pyplot as plt\n",
    "import sklearn\n",
    "from sklearn import decomposition, model_selection, preprocessing\n",
    "import cv2"
   ]
  },
  {
   "cell_type": "code",
   "execution_count": 2,
   "id": "958d78ac-f4e0-4d5b-8e89-19b260f288ea",
   "metadata": {},
   "outputs": [],
   "source": [
    "from tensorflow.keras.datasets import mnist"
   ]
  },
  {
   "cell_type": "code",
   "execution_count": 3,
   "id": "9c291145-e498-4d3c-aae9-7b1606d334a9",
   "metadata": {},
   "outputs": [],
   "source": [
    "(X_train, Y_train), (X_test, Y_test) = mnist.load_data()"
   ]
  },
  {
   "cell_type": "code",
   "execution_count": 4,
   "id": "268a3eaa-c0b2-43da-9a5d-cdb622dda9cd",
   "metadata": {},
   "outputs": [
    {
     "data": {
      "text/plain": [
       "(60000, 28, 28)"
      ]
     },
     "execution_count": 4,
     "metadata": {},
     "output_type": "execute_result"
    }
   ],
   "source": [
    "X_train.shape"
   ]
  },
  {
   "cell_type": "code",
   "execution_count": 5,
   "id": "a5ce1679-7590-4065-8e86-bfa3d612e427",
   "metadata": {},
   "outputs": [
    {
     "data": {
      "text/plain": [
       "array([5, 0, 4, ..., 5, 6, 8], dtype=uint8)"
      ]
     },
     "execution_count": 5,
     "metadata": {},
     "output_type": "execute_result"
    }
   ],
   "source": [
    "Y_train"
   ]
  },
  {
   "cell_type": "code",
   "execution_count": 6,
   "id": "c2d28238-a0aa-41b4-b06c-7987a37aaf35",
   "metadata": {},
   "outputs": [],
   "source": [
    "#create feature vector for X_train\n",
    "records, img_rows, img_cols = X_train.shape\n",
    "X_proc = X_train.reshape(-1, img_rows * img_cols)"
   ]
  },
  {
   "cell_type": "code",
   "execution_count": 7,
   "id": "92878f8c-095f-412f-b09a-da6aa6961b0b",
   "metadata": {},
   "outputs": [
    {
     "data": {
      "text/plain": [
       "(60000, 784)"
      ]
     },
     "execution_count": 7,
     "metadata": {},
     "output_type": "execute_result"
    }
   ],
   "source": [
    "X_proc.shape"
   ]
  },
  {
   "cell_type": "code",
   "execution_count": 8,
   "id": "aec8f631-3341-4a7d-bef2-5913a1f15f90",
   "metadata": {},
   "outputs": [],
   "source": [
    "pca = decomposition.PCA(n_components=10)\n",
    "X_pca = pca.fit_transform(X_proc)"
   ]
  },
  {
   "cell_type": "code",
   "execution_count": 9,
   "id": "f408dd56-edb4-4976-9438-3073a6e08552",
   "metadata": {},
   "outputs": [],
   "source": [
    "svm_model = sklearn.svm.SVC(kernel='linear') #radial basis function = gaussian function"
   ]
  },
  {
   "cell_type": "code",
   "execution_count": null,
   "id": "36ddbf61-7f95-4c35-85fa-42749e558005",
   "metadata": {},
   "outputs": [],
   "source": [
    "svm_model.fit(X_pca, Y_train)"
   ]
  },
  {
   "cell_type": "code",
   "execution_count": null,
   "id": "90d3a67a-a4cd-4f67-8a18-f9c7f4b41b10",
   "metadata": {},
   "outputs": [],
   "source": [
    "records, img_rows, img_cols = X_test.shape\n",
    "X_tproc = X_test.reshape(-1, img_rows * img_cols)\n",
    "X_tpca = pca.transform(X_tproc)"
   ]
  },
  {
   "cell_type": "code",
   "execution_count": null,
   "id": "7508e887-45d5-4c7e-8f8f-899037fa4e41",
   "metadata": {},
   "outputs": [],
   "source": [
    "X_tpca.shape"
   ]
  },
  {
   "cell_type": "code",
   "execution_count": null,
   "id": "4eb07af5-432e-4741-9c73-546fcb60df4b",
   "metadata": {},
   "outputs": [],
   "source": [
    "y_pred = svm_model.predict(X_tpca)"
   ]
  },
  {
   "cell_type": "code",
   "execution_count": null,
   "id": "f77596f3-1075-41fc-bd2b-9613357841a1",
   "metadata": {},
   "outputs": [],
   "source": [
    "accuracy = sklearn.metrics.accuracy_score(Y_test, y_pred)"
   ]
  },
  {
   "cell_type": "code",
   "execution_count": null,
   "id": "7e26486e-4610-498e-818c-00e1a6779ec1",
   "metadata": {},
   "outputs": [],
   "source": [
    "accuracy"
   ]
  },
  {
   "cell_type": "code",
   "execution_count": null,
   "id": "90a9c487-ba80-4a6b-b7d9-52b8561f034b",
   "metadata": {},
   "outputs": [],
   "source": [
    "def gradients(X, y, params, bias, xi):\n",
    "    lang_multiplier = 1 - y * (np.dot(X,params)+bias)\n",
    "    xi = np.where(lang_multiplier>0, lang_multiplier, 0)\n",
    "    params_grad = params - np.dot(y * (lang_multiplier > 0), X)\n",
    "    bias_grad = -np.sum(y*(lang_multiplier>0))\n",
    "    return params_grad, bias_grad, xi"
   ]
  },
  {
   "cell_type": "code",
   "execution_count": null,
   "id": "b9c4a85e-7bdd-4dbb-bafc-ab29f882dbe1",
   "metadata": {},
   "outputs": [],
   "source": [
    "def SVM_implemenation(X, y, iterations, alpha):\n",
    "    M,N = X.shape\n",
    "    param_mat = []\n",
    "    bias_arr = []\n",
    "    xi_mat = []\n",
    "    for row in y:\n",
    "        params = np.zeros(N)\n",
    "        bias = 0\n",
    "        xi = np.zeros(M)\n",
    "        w_grad, b_grad, xi_grad = gradients(X, row, params, bias, xi)\n",
    "        for i in range(iterations):\n",
    "            params -= alpha * w_grad\n",
    "            bias -= alpha * b_grad\n",
    "            xi = np.maximum(0, xi_grad)\n",
    "        param_mat.append(params)\n",
    "        bias_arr.append(bias)\n",
    "        xi_mat.append(xi)\n",
    "    return param_mat, bias_arr, xi_mat"
   ]
  },
  {
   "cell_type": "code",
   "execution_count": null,
   "id": "96cdee51-902f-4c11-9811-a050c3d079ce",
   "metadata": {},
   "outputs": [],
   "source": [
    "oneHotEncoder = preprocessing.OneHotEncoder()\n",
    "y_train = Y_train.reshape(-1,1)\n",
    "y_test = Y_test.reshape(-1,1)\n",
    "y_tr = oneHotEncoder.fit_transform(y_train).toarray().transpose()\n",
    "y_te = oneHotEncoder.transform(y_test).toarray().transpose()"
   ]
  },
  {
   "cell_type": "code",
   "execution_count": null,
   "id": "9877eb95-d186-41cb-a326-f47bb38771de",
   "metadata": {},
   "outputs": [],
   "source": [
    "p, b, xi = SVM_implemenation(X_pca, y_tr, 10000, 0.001)"
   ]
  },
  {
   "cell_type": "code",
   "execution_count": null,
   "id": "60af49dc-1dbc-4ad9-b350-bc0b2ffc1c88",
   "metadata": {},
   "outputs": [],
   "source": [
    "p = np.array(p)\n",
    "xi = np.array(xi)"
   ]
  },
  {
   "cell_type": "code",
   "execution_count": null,
   "id": "d6212453-2aea-4948-88fd-ebc93a326e3f",
   "metadata": {},
   "outputs": [],
   "source": [
    "y_p = np.dot(X_tpca, p)+b"
   ]
  },
  {
   "cell_type": "code",
   "execution_count": null,
   "id": "12271e0c-f691-4bbf-ab27-e50672b06941",
   "metadata": {},
   "outputs": [],
   "source": [
    "y_p = np.argmax(y_p, axis=1)"
   ]
  },
  {
   "cell_type": "code",
   "execution_count": null,
   "id": "0b030f8d-c5e6-47a6-9ffe-32787a6c7173",
   "metadata": {},
   "outputs": [],
   "source": [
    "sklearn.metrics.accuracy_score(Y_test, y_p)"
   ]
  },
  {
   "cell_type": "code",
   "execution_count": null,
   "id": "9d4de24f-97ec-4091-bf8b-638efc5c7325",
   "metadata": {},
   "outputs": [],
   "source": []
  }
 ],
 "metadata": {
  "kernelspec": {
   "display_name": "Python 3 (ipykernel)",
   "language": "python",
   "name": "python3"
  },
  "language_info": {
   "codemirror_mode": {
    "name": "ipython",
    "version": 3
   },
   "file_extension": ".py",
   "mimetype": "text/x-python",
   "name": "python",
   "nbconvert_exporter": "python",
   "pygments_lexer": "ipython3",
   "version": "3.12.0"
  }
 },
 "nbformat": 4,
 "nbformat_minor": 5
}
